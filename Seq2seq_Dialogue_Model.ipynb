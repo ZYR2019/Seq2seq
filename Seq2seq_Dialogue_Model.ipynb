{
 "cells": [
  {
   "cell_type": "markdown",
   "metadata": {
    "id": "pulSn6bHUOTV"
   },
   "source": [
    "# Lab 12 - Creating an End-To-End Dialogue System"
   ]
  },
  {
   "cell_type": "markdown",
   "metadata": {
    "id": "vb_Z5dCsUQnW"
   },
   "source": [
    "In the last lab we want to create end-to-end dialogue systems, following on from the seq2seq MT labs you've done. Customer support apps and online helpdesks are among the places where conversational models can be used. Retrieval-based models, which produce predefined responses to questions of specific types, are often used to power these models. In this lab, the seq2seq model is used to build a generative model."
   ]
  },
  {
   "cell_type": "markdown",
   "metadata": {
    "id": "B3q5lgWkVD6-"
   },
   "source": [
    "To begin, download the data ZIP file from [here](https://www.cs.cornell.edu/~cristian/Cornell_Movie-Dialogs_Corpus.html) and place it under the current directory. \n",
    "\n",
    "After that, let’s import some necessities."
   ]
  },
  {
   "cell_type": "code",
   "execution_count": 1,
   "metadata": {
    "id": "9Dz-W5nwGydd"
   },
   "outputs": [],
   "source": [
    "import re\n",
    "import sys\n",
    "import os\n",
    "import random\n",
    "import string\n",
    "import time\n",
    "import pickle\n",
    "import numpy as np\n",
    "import tensorflow as tf\n",
    "import matplotlib.pyplot as plt\n",
    "from tensorflow.keras import optimizers\n",
    "from tensorflow.keras.layers import add\n",
    "from tensorflow.keras.models import Model\n",
    "from tensorflow.keras import backend as K\n",
    "from tensorflow.keras.utils import plot_model\n",
    "from tensorflow.keras.callbacks import ReduceLROnPlateau\n",
    "from nltk.translate.bleu_score import corpus_bleu\n",
    "from tensorflow.keras.utils import to_categorical\n",
    "from tensorflow.keras.callbacks import ModelCheckpoint\n",
    "from tensorflow.keras.preprocessing.text import Tokenizer\n",
    "from tensorflow.keras.preprocessing.sequence import pad_sequences\n",
    "from tensorflow.keras.layers import Input, Dense, LSTM, GRU, TimeDistributed\n",
    "from tensorflow.keras.layers import Embedding, Dropout, Bidirectional, Concatenate, Lambda\n",
    "np.random.seed(1)\n",
    "random.seed(1)"
   ]
  },
  {
   "cell_type": "code",
   "execution_count": 2,
   "metadata": {
    "colab": {
     "base_uri": "https://localhost:8080/"
    },
    "id": "i-bgxBxHHIDi",
    "outputId": "3dcc124f-8c53-4610-ebea-50700ebd17a7"
   },
   "outputs": [
    {
     "name": "stdout",
     "output_type": "stream",
     "text": [
      "Mounted at /content/drive\n"
     ]
    }
   ],
   "source": [
    "from google.colab import drive\n",
    "\n",
    "drive.mount('/content/drive', force_remount=True)\n",
    "\n",
    "os.chdir(\"/content/drive/My Drive\")"
   ]
  },
  {
   "cell_type": "code",
   "execution_count": 4,
   "metadata": {
    "colab": {
     "base_uri": "https://localhost:8080/"
    },
    "id": "KZQ2Htim5563",
    "outputId": "0ffca48b-6906-4eba-b39b-f794f42373ec"
   },
   "outputs": [
    {
     "name": "stdout",
     "output_type": "stream",
     "text": [
      "Archive:  ./cornell_movie_dialogs_corpus.zip\n",
      "replace cornell movie-dialogs corpus/.DS_Store? [y]es, [n]o, [A]ll, [N]one, [r]ename: "
     ]
    }
   ],
   "source": [
    "!unzip ./cornell_movie_dialogs_corpus.zip"
   ]
  },
  {
   "cell_type": "markdown",
   "metadata": {
    "id": "SVIb8_AK9xjD"
   },
   "source": [
    "# The Cornell Movie-Dialogs Corpus "
   ]
  },
  {
   "cell_type": "markdown",
   "metadata": {
    "id": "p7hru-2uFRWy"
   },
   "source": [
    "The next move is to reformat our data file and load the data into functional structures. \n",
    "\n",
    "The Cornell Movie-Dialogs Corpus contains 220,579 conversational exchanges between 10,292 pairs of movie characters, 9,035 characters from 617 movies, and 304,713 total utterances. This dataset is large with a wide variety of language formality, time periods, and other variables. Our hope is that this variety will make our model responsive to a wide range of queries."
   ]
  },
  {
   "cell_type": "code",
   "execution_count": 3,
   "metadata": {
    "colab": {
     "base_uri": "https://localhost:8080/"
    },
    "id": "wVCjdDP_HMIM",
    "outputId": "e7654548-7cde-4bed-d3be-09b4944bf27e"
   },
   "outputs": [
    {
     "name": "stdout",
     "output_type": "stream",
     "text": [
      "Can we make this quick?  Roxanne Korrine and Andrew Barrett are having an incredibly horrendous public break- up on the quad.  Again.\n",
      "Well, I thought we'd start with pronunciation, if that's okay with you.\n",
      "\n",
      "Well, I thought we'd start with pronunciation, if that's okay with you.\n",
      "Not the hacking and gagging and spitting part.  Please.\n",
      "\n",
      "Not the hacking and gagging and spitting part.  Please.\n",
      "Okay... then how 'bout we try out some French cuisine.  Saturday?  Night?\n",
      "\n",
      "You're asking me out.  That's so cute. What's your name again?\n",
      "Forget it.\n",
      "\n",
      "No, no, it's my fault -- we didn't have a proper introduction ---\n",
      "Cameron.\n",
      "\n"
     ]
    },
    {
     "data": {
      "text/plain": [
       "221616"
      ]
     },
     "execution_count": 3,
     "metadata": {},
     "output_type": "execute_result"
    }
   ],
   "source": [
    "#Loading the data\n",
    "lines = open('cornell movie-dialogs corpus/movie_lines.txt', encoding='utf-8', errors='ignore').read().split('\\n')\n",
    "conv_lines = open('cornell movie-dialogs corpus/movie_conversations.txt', encoding='utf-8', errors='ignore').read().split('\\n') # index of related lines\n",
    "\n",
    "# Create a dictionary to map each id with its line\n",
    "id2line = {}\n",
    "for line in lines:\n",
    "    _line = line.split(' +++$+++ ')\n",
    "    if len(_line) == 5:\n",
    "        id2line[_line[0]] = _line[4]\n",
    "        \n",
    "# Create a list of all of the ids.\n",
    "convs = [ ]\n",
    "for line in conv_lines[:-1]:\n",
    "    _line = line.split(' +++$+++ ')[-1][1:-1].replace(\"'\",\"\").replace(\" \",\"\")\n",
    "    convs.append(_line.split(','))\n",
    "\n",
    "# Sort the sentences into questions (inputs) and answers (targets)\n",
    "pairs = []\n",
    "for conv in convs:\n",
    "    for i in range(len(conv)-1):\n",
    "        pairs.append([id2line[conv[i]],id2line[conv[i+1]]])\n",
    "        \n",
    "limit = 0\n",
    "for i in range(limit, limit+5):\n",
    "    print(pairs[i][0])\n",
    "    print(pairs[i][1])\n",
    "    print()\n",
    "    \n",
    "len(pairs)\n"
   ]
  },
  {
   "cell_type": "markdown",
   "metadata": {
    "id": "pGhwqopLhZBu"
   },
   "source": [
    "We'll format data file with a question sentence and an answer sentence pair on each line for convenience.  Before we are ready to use this data, we must perform some preprocessing.\n"
   ]
  },
  {
   "cell_type": "code",
   "execution_count": 4,
   "metadata": {
    "colab": {
     "base_uri": "https://localhost:8080/"
    },
    "id": "R0O-qSHrHYgU",
    "outputId": "12b28613-9054-421f-c96f-ba1aee2d7862"
   },
   "outputs": [
    {
     "data": {
      "text/plain": [
       "[['can we make this quick roxanne korrine and andrew barrett are having an incredibly horrendous public break up on the quad again',\n",
       "  'well i thought we would start with pronunciation if that is okay with you'],\n",
       " ['well i thought we would start with pronunciation if that is okay with you',\n",
       "  'not the hacking and gagging and spitting part please'],\n",
       " ['not the hacking and gagging and spitting part please',\n",
       "  'okay then how about we try out some french cuisine saturday night'],\n",
       " ['you are asking me out that is so cute that is your name again',\n",
       "  'forget it'],\n",
       " ['no no it is my fault we did not have a proper introduction', 'cameron']]"
      ]
     },
     "execution_count": 4,
     "metadata": {},
     "output_type": "execute_result"
    }
   ],
   "source": [
    "def preprocess(pairs):\n",
    "    p = pairs.copy()\n",
    "\n",
    "    for i in p:\n",
    "        for j in range(0,2):\n",
    "            i[j] = i[j].lower()\n",
    "            i[j] = re.sub(r\"there's\", \"there is\", i[j])\n",
    "            i[j] = re.sub(r\"i'm\", \"i am\", i[j])\n",
    "            i[j] = re.sub(r\"he's\", \"he is\", i[j])\n",
    "            i[j] = re.sub(r\"she's\", \"she is\", i[j])\n",
    "            i[j] = re.sub(r\"it's\", \"it is\", i[j])\n",
    "            i[j] = re.sub(r\"that's\", \"that is\", i[j])\n",
    "            i[j] = re.sub(r\"what's\", \"that is\", i[j])\n",
    "            i[j] = re.sub(r\"where's\", \"where is\", i[j])\n",
    "            i[j] = re.sub(r\"how's\", \"how is\", i[j])\n",
    "            i[j] = re.sub(r\"\\'ll\", \" will\", i[j])\n",
    "            i[j] = re.sub(r\"\\'ve\", \" have\", i[j])\n",
    "            i[j] = re.sub(r\"\\'re\", \" are\", i[j])\n",
    "            i[j] = re.sub(r\"\\'d\", \" would\", i[j])\n",
    "            i[j] = re.sub(r\"\\'re\", \" are\", i[j])\n",
    "            i[j] = re.sub(r\"won't\", \"will not\", i[j])\n",
    "            i[j] = re.sub(r\"can't\", \"cannot\", i[j])\n",
    "            i[j] = re.sub(r\"n't\", \" not\", i[j])\n",
    "            i[j] = re.sub(r\"n'\", \"ng\", i[j])\n",
    "            i[j] = re.sub(r\"'bout\", \"about\", i[j])\n",
    "            i[j] = re.sub(r\"'til\", \"until\", i[j])\n",
    "            i[j] = re.sub(r\"[-()\\\"#/@;:<>{}`+=~|.!?,]\", \"\", i[j])\n",
    "            i[j] = i[j].strip()\n",
    "    return p\n",
    "\n",
    "replaced_pairs = preprocess(pairs)\n",
    "def clean_data(pairs):\n",
    "    p = pairs.copy()\n",
    "    # prepare translation table \n",
    "    table = str.maketrans('', '', string.punctuation)\n",
    "    for i in p:\n",
    "        # tokenize\n",
    "        i[0], i[1] = i[0].split(), i[1].split()\n",
    "        # convert to lower case\n",
    "        i[0], i[1] = [word.lower() for word in i[0]], [word.lower() for word in i[1]]\n",
    "        # remove punctuations \n",
    "        i[0], i[1] = [w.translate(table) for w in i[0]], [w.translate(table) for w in i[1]]\n",
    "        # remove numbers \n",
    "        i[0], i[1] = [word for word in i[0] if word.isalpha()], [word for word in i[1] if word.isalpha()]\n",
    "        # store as string\n",
    "        i[0], i[1] =  ' '.join(i[0]), ' '.join(i[1])\n",
    "            \n",
    "    return p\n",
    "\n",
    "clean_pairs = clean_data(replaced_pairs)\n",
    "clean_pairs[:5]"
   ]
  },
  {
   "cell_type": "markdown",
   "metadata": {
    "id": "FKTpzSOWnUgL"
   },
   "source": [
    "\n",
    "The parsing of the raw movie lines.txt data file is made simpler with the following functions. We add the start and end tokens to our sentences. We also need to find the maximum length.\n",
    "\n"
   ]
  },
  {
   "cell_type": "code",
   "execution_count": 5,
   "metadata": {
    "colab": {
     "base_uri": "https://localhost:8080/"
    },
    "id": "g_P2abDKHkbm",
    "outputId": "3c3a412b-9235-4459-970b-ba11381008bf"
   },
   "outputs": [
    {
     "name": "stdout",
     "output_type": "stream",
     "text": [
      "max-len of questions for training:  18\n",
      "max-len of answers for training:  18\n"
     ]
    }
   ],
   "source": [
    "# adding the start and end tokens to our utterances\n",
    "start_token = '<startseq>'\n",
    "end_token = '<endseq>'\n",
    "\n",
    "def add_end_start_tokens(pairs):\n",
    "    p = pairs.copy()\n",
    "    for i in p:\n",
    "        i[0] = start_token + ' '  + i[0] + ' ' + end_token\n",
    "        i[1] = start_token + ' '  + i[1] + ' ' + end_token\n",
    "    return p\n",
    "\n",
    "tokenized_pairs = add_end_start_tokens(clean_pairs)\n",
    "tokenized_pairs[:5]\n",
    "\n",
    "# finding the maximum length for questions and answers\n",
    "# we caculate the max length that covers 80% of the data \n",
    "def max_length(pairs,prct):\n",
    "    # Create a list of all the utterances\n",
    "    questions = []\n",
    "    answers = []\n",
    "    for i in pairs:\n",
    "        questions.append(i[0])\n",
    "        answers.append(i[1])\n",
    "        \n",
    "    length_questions = list(len(d.split()) for d in questions)\n",
    "    length_answers = list(len(d.split()) for d in answers)\n",
    "\n",
    "    return int(np.percentile(length_questions, prct)),int(np.percentile(length_answers, prct))\n",
    "\n",
    "max_len_q,max_len_a = max_length(tokenized_pairs,80)\n",
    "\n",
    "print('max-len of questions for training: ', max_len_q)\n",
    "print('max-len of answers for training: ', max_len_a)"
   ]
  },
  {
   "cell_type": "markdown",
   "metadata": {
    "id": "hFsKDr1Wr6d3"
   },
   "source": [
    "The next step is to build a vocabulary and save query/response pairs. \n",
    "It's worth noting that we're dealing with word sequences that don't have an implicit mapping to a discrete numerical space. As a result, we must build one by assigning an index value to each unique word in our dataset.\n",
    "\n",
    "We are going to create our vocabulary. Trimming rarely used words from our vocabulary is another strategy for achieving faster convergence during preparation. The complexity of the function that the model must learn to approximate will be lowered as the feature space is reduced."
   ]
  },
  {
   "cell_type": "code",
   "execution_count": 6,
   "metadata": {
    "colab": {
     "base_uri": "https://localhost:8080/"
    },
    "id": "Y20Cn9KPHrid",
    "outputId": "8938fda9-74e2-47a9-c301-29564b5e97bd"
   },
   "outputs": [
    {
     "name": "stdout",
     "output_type": "stream",
     "text": [
      "Short vocab size: 14524 \n"
     ]
    },
    {
     "data": {
      "text/plain": [
       "['<endseq>', '<startseq>', 'a', 'aa', 'aaaah']"
      ]
     },
     "execution_count": 6,
     "metadata": {},
     "output_type": "execute_result"
    }
   ],
   "source": [
    "# Remove questions and answers that are shorter than 2 words and longer than maxlen.\n",
    "min_line_len = 2 # two words are for tokens\n",
    "\n",
    "def set_length(tokenized_pairs):\n",
    "    pairs_final = []\n",
    "    for p in tokenized_pairs:\n",
    "        if (\n",
    "            len(p[0].split())>=min_line_len and len(p[1].split())>=min_line_len \n",
    "           and len(p[0].split())<=max_len_q and len(p[1].split())<=max_len_a):\n",
    "                \n",
    "            pairs_final.append(p)\n",
    "            \n",
    "    return pairs_final\n",
    "\n",
    "pairs_final = set_length(tokenized_pairs)\n",
    "len(pairs_final)\n",
    "\n",
    "# making a vocabulary of the words that occur more than word_count_threshold \n",
    "def create_reoccurring_vocab(pairs, word_count_threshold = 5):\n",
    "    p = pairs\n",
    "    all_captions = []\n",
    "    for i in p:\n",
    "        for j in i:\n",
    "            all_captions.append(j)\n",
    "\n",
    "    # Consider only words which occur at least 10 times in the corpus\n",
    "    word_counts = {}\n",
    "    nsents = 0\n",
    "    for sent in all_captions:\n",
    "        nsents += 1\n",
    "        for w in sent.split(' '):\n",
    "            word_counts[w] = word_counts.get(w, 0) + 1\n",
    "\n",
    "    vocab = [w for w in word_counts if word_counts[w] >= word_count_threshold]\n",
    "    vocab = list(set(vocab))\n",
    "    print('Short vocab size: %d ' % len(vocab))\n",
    "    return vocab\n",
    "\n",
    "# each word in the vocabulary must be used in the data at least 20 times\n",
    "new_vocab = create_reoccurring_vocab(pairs_final, word_count_threshold = 4)\n",
    "for v in new_vocab:\n",
    "    if len(v) == 1 and v!='a' and v!='i':\n",
    "        new_vocab.remove(v) \n",
    "\n",
    "new_vocab = sorted(new_vocab)[1:]\n",
    "new_vocab[:5]"
   ]
  },
  {
   "cell_type": "code",
   "execution_count": 7,
   "metadata": {
    "colab": {
     "base_uri": "https://localhost:8080/"
    },
    "id": "2Gf7WtdIH1l7",
    "outputId": "46d6adde-2927-4a4b-c91e-a0e810a14a55"
   },
   "outputs": [
    {
     "data": {
      "text/plain": [
       "14500"
      ]
     },
     "execution_count": 7,
     "metadata": {},
     "output_type": "execute_result"
    }
   ],
   "source": [
    "vocab_len = len(new_vocab) + 1 # since index 0 is used as padding, we have to increase the vocab size\n",
    "vocab_len\n"
   ]
  },
  {
   "cell_type": "markdown",
   "metadata": {
    "id": "WQ1ai5lcibcU"
   },
   "source": [
    "We are going to create a dataset of pairs without the trimmed words."
   ]
  },
  {
   "cell_type": "code",
   "execution_count": 8,
   "metadata": {
    "id": "L0iu6Z3RmecS"
   },
   "outputs": [],
   "source": [
    "def progressBar(value, endvalue, bar_length=20, job=''):\n",
    "\n",
    "    percent = float(value) / endvalue\n",
    "    arrow = '-' * int(round(percent * bar_length)-1) + '>'\n",
    "    spaces = ' ' * (bar_length - len(arrow))\n",
    "\n",
    "    sys.stdout.write(\"\\r{0} : [{1}] {2}%\".format(job,arrow + spaces, int(round(percent * 100))))\n",
    "    sys.stdout.flush()\n",
    "    \n",
    "def print_tensor(t):\n",
    "    print(K.get_value(t))\n",
    "    \n",
    "def to_tensor(t):\n",
    "    return tf.convert_to_tensor(t)"
   ]
  },
  {
   "cell_type": "code",
   "execution_count": 9,
   "metadata": {
    "colab": {
     "base_uri": "https://localhost:8080/"
    },
    "id": "9xWI1J7uH4II",
    "outputId": "29ffe60b-0bea-48d8-96a6-25ed1ad8ee26"
   },
   "outputs": [
    {
     "name": "stdout",
     "output_type": "stream",
     "text": [
      " : [------------------->] 100%\n",
      "Trimmed from 145905 pairs to 114938\n"
     ]
    },
    {
     "data": {
      "text/plain": [
       "114938"
      ]
     },
     "execution_count": 9,
     "metadata": {},
     "output_type": "execute_result"
    }
   ],
   "source": [
    "# keeping the pairs with words in the vocab\n",
    "def trimRareWords(voc, pairs):\n",
    "    # Filtering out the pairs with the oov words\n",
    "    keep_pairs = []\n",
    "    i=0\n",
    "    for pair in pairs:\n",
    "        i+=1\n",
    "        progressBar(value=i,endvalue=len(pairs))\n",
    "        input_sentence = pair[0]\n",
    "        output_sentence = pair[1]\n",
    "        keep_input = True\n",
    "        keep_output = True\n",
    "        #  input sentence\n",
    "        for word in input_sentence.split(' '):\n",
    "            if word not in voc:\n",
    "                keep_input = False\n",
    "                break\n",
    "        #  output sentence\n",
    "        for word in output_sentence.split(' '):\n",
    "            if word not in voc:\n",
    "                keep_output = False\n",
    "                break\n",
    "\n",
    "        if keep_input and keep_output:\n",
    "            keep_pairs.append(pair)\n",
    "\n",
    "    print(\"\\nTrimmed from {} pairs to {}\".format(len(pairs), len(keep_pairs)))\n",
    "    return keep_pairs\n",
    "\n",
    "\n",
    "# # Trim voc and pairs\n",
    "pairs_final = trimRareWords(new_vocab, pairs_final)\n",
    "with open ('final_pairs_v21.pkl','wb') as f:\n",
    "    pairs_final = pickle.dump(pairs_final,f)\n",
    "    \n",
    "with open ('final_pairs_v21.pkl','rb') as f:\n",
    "    pairs_final = pickle.load(f)\n",
    "    \n",
    "pairs_final_train = pairs_final\n",
    "len(pairs_final_train)"
   ]
  },
  {
   "cell_type": "code",
   "execution_count": 10,
   "metadata": {
    "colab": {
     "base_uri": "https://localhost:8080/"
    },
    "id": "gtP1tSpzf6FA",
    "outputId": "659b6e34-212a-41b3-8ca8-f78cc01adf67"
   },
   "outputs": [
    {
     "data": {
      "text/plain": [
       "114938"
      ]
     },
     "execution_count": 10,
     "metadata": {},
     "output_type": "execute_result"
    }
   ],
   "source": [
    "with open ('final_pairs_v21.pkl','rb') as f:\n",
    "    pairs_final = pickle.load(f)\n",
    "    \n",
    "pairs_final_train = pairs_final\n",
    "len(pairs_final_train)"
   ]
  },
  {
   "cell_type": "markdown",
   "metadata": {
    "id": "Szo-AVa_z1tR"
   },
   "source": [
    "# Embedding layer"
   ]
  },
  {
   "cell_type": "markdown",
   "metadata": {
    "id": "zf7PJEmwUywI"
   },
   "source": [
    "Our models will eventually expect numerical tensors as inputs, despite the fact that we put a lot of effort into preparing and massaging our data into a nice vocabulary object and list of sentence pairs. The Embedding layer can be used to load a pre-trained word embedding model. We are going to use GloVe embeddings. You can download GloVe and we can seed the Keras Embedding layer with weights from the pre-trained embedding for the words in your dataset."
   ]
  },
  {
   "cell_type": "code",
   "execution_count": 11,
   "metadata": {
    "colab": {
     "base_uri": "https://localhost:8080/"
    },
    "id": "6P8WElcGICYy",
    "outputId": "70c2d314-bc9a-48d5-d2ad-914eef6f9c02"
   },
   "outputs": [
    {
     "name": "stdout",
     "output_type": "stream",
     "text": [
      "Loading glove...\n",
      "GloVe  50  loded!\n"
     ]
    }
   ],
   "source": [
    "test = False\n",
    "GRU_units = 50\n",
    "batch_size = 32\n",
    "emb_dim = 50\n",
    "init_lr = 0.001\n",
    "\n",
    "#Create an instance of the tokenizer object:\n",
    "tokenizer = Tokenizer(filters = [])\n",
    "tokenizer.fit_on_texts(new_vocab)\n",
    "\n",
    "ixtoword = {} # index to word dic\n",
    "wordtoix = tokenizer.word_index # word to index dic\n",
    "pad_token = 'pad0'\n",
    "ixtoword[0] = pad_token # no word in vocab has index 0,  padding is indicated with 0\n",
    "\n",
    "for w in tokenizer.word_index:\n",
    "    ixtoword[tokenizer.word_index[w]] = w\n",
    "\n",
    "# Making the embedding mtrix\n",
    "def make_embedding_layer(embedding_dim=50, glove=True):\n",
    "    if glove == False:\n",
    "        print('Just a zero matrix loaded')\n",
    "        embedding_matrix = np.zeros((vocab_len, embedding_dim)) # just a zero matrix \n",
    "    else:\n",
    "        print('Loading glove...')\n",
    "        embeddings_index = {} \n",
    "        f = open(os.path.join('glove.6B.50d.txt'), encoding=\"utf-8\")\n",
    "        for line in f:\n",
    "            values = line.split()\n",
    "            word = values[0]\n",
    "            coefs = np.asarray(values[1:], dtype='float32')\n",
    "            embeddings_index[word] = coefs\n",
    "        f.close()\n",
    "        print(\"GloVe \",embedding_dim, ' loded!')\n",
    "        embedding_matrix = np.zeros((vocab_len, embedding_dim)) # to import as weights for Keras Embedding layer\n",
    "        for word, i in wordtoix.items():\n",
    "            embedding_vector = embeddings_index.get(word)\n",
    "            if embedding_vector is not None:\n",
    "                # Words that are not found in the embedding index will be all zeros\n",
    "                embedding_matrix[i] = embedding_vector\n",
    "            \n",
    "    embedding_layer = Embedding(vocab_len, embedding_dim, mask_zero=True, trainable=False) # we have a limited vocab so we \n",
    "                                                                                           # do not train the embedding layer\n",
    "                                                                                           # we use 0 as padding so => mask_zero=True\n",
    "    embedding_layer.build((None,))\n",
    "    embedding_layer.set_weights([embedding_matrix])\n",
    "    \n",
    "    return embedding_layer\n",
    "\n",
    "embeddings = make_embedding_layer(embedding_dim=50, glove=not test)"
   ]
  },
  {
   "cell_type": "markdown",
   "metadata": {
    "id": "HIZCs-L8-XWh"
   },
   "source": [
    "# Seq2Seq Model\n",
    "\n"
   ]
  },
  {
   "cell_type": "markdown",
   "metadata": {
    "id": "EEcMRrQ3VVwA"
   },
   "source": [
    "A sequence-to-sequence (seq2seq) model is at the core of our model. The purpose of a seq2seq model is to use a fixed-sized sequence as an input and generate a variable-length sequence as an output.\n",
    "\n",
    "[Sutskever et al.](https://arxiv.org/abs/1409.3215) found that we can do this task by combining two different recurrent neural nets. One  RNN serves as an encoder, converting a variable-length input sequence to a fixed-length context vector. This context vector (the RNN's final hidden layer) contain semantic knowledge about the query sentence that the system receives.\n",
    "\n"
   ]
  },
  {
   "cell_type": "markdown",
   "metadata": {
    "id": "mhGdfvA0-jcE"
   },
   "source": [
    "# Encoder"
   ]
  },
  {
   "cell_type": "markdown",
   "metadata": {
    "id": "l1fHwj0C-idB"
   },
   "source": [
    "The encoder RNN iterates through the input sentence one token at a time, producing an \"output\" vector and a \"hidden state\" vector at each time step.  The output vector is recorded while the hidden state vector is transferred to the next time step. The encoder converts the context it observed at each point in the sequence into a set of points in a high-dimensional space, which the decoder can use to produce a meaningful output for the task at hand.\n",
    "\n",
    "A multi-layered Gated Recurrent Unit, created by [Cho et al.](https://arxiv.org/pdf/1406.1078v3.pdf), is at the centre of our encoder. We'll use a bidirectional version of the GRU, which effectively means there are two separate RNNs: one fed the input sequence in regular sequential order and the other fed the input sequence in reverse order. At each time point, the outputs of each network are added together.\n",
    "\n",
    "***For the first task you need to define a bidirectional GRU and pass the embedding into the GRU. ***"
   ]
  },
  {
   "cell_type": "code",
   "execution_count": 12,
   "metadata": {
    "id": "cGy-CuL-IXKr"
   },
   "outputs": [],
   "source": [
    "class Encoder(tf.keras.Model):\n",
    "    def __init__(self, vocab_size, embedding_dim, enc_units):\n",
    "        super(Encoder, self).__init__()\n",
    "        self.batch_sz = batch_size\n",
    "        self.enc_units = enc_units\n",
    "\n",
    "        #  pass the embedding into a bidirectional version of the GRU - as you can see in the call() method below, you can use just 1 GRU layer but could experiment with more\n",
    "        #pass the embedding into a bidirectional version of the GRU\n",
    "        self.embeddings = embeddings\n",
    "        #Bidirectional GRU for the encoder\n",
    "        #self.Bidirectional1 = Bidirectional(GRU(enc_units, return_sequences=True, return_state=False, recurrent_initializer='glorot_uniform', name='Encoder_firstGRU'), name='biidirectional_firstEncoder')\n",
    "        self.Bidirectional2 = Bidirectional(GRU(enc_units, \n",
    "                             return_sequences=True, \n",
    "                             return_state=True,\n",
    "                             recurrent_initializer='glorot_uniform',\n",
    "                             name='Encoder_secondGRU'),\n",
    "                           name='bidirectional_secondEncoder')                                                                                       \n",
    "\n",
    "        #                                                                                        \n",
    "        self.dropout = Dropout(0.2)\n",
    "        self.Inp = Input(shape=(max_len_q,)) # size of questions\n",
    "            \n",
    "    def bidirectional(self, bidir, layer, inp, hidden):\n",
    "        return bidir(layer(inp, initial_state = hidden))\n",
    "    \n",
    "    def call(self, x, hidden):\n",
    "        x = self.embeddings(x)\n",
    "#         x = self.dropout(x)\n",
    "#         x = self.Bidirectional1(x)\n",
    "        x = self.dropout(x)\n",
    "        output, state_f,state_b = self.Bidirectional2(x)\n",
    "\n",
    "        return output, state_f, state_b\n",
    "\n",
    "    def initialize_hidden_state(self):\n",
    "        return tf.zeros((self.batch_sz, self.enc_units))\n"
   ]
  },
  {
   "cell_type": "code",
   "execution_count": 13,
   "metadata": {
    "id": "HWX9HCkIIbed"
   },
   "outputs": [],
   "source": [
    "encoder = Encoder(vocab_len, 50, GRU_units)\n"
   ]
  },
  {
   "cell_type": "markdown",
   "metadata": {
    "id": "80-YvbB--qbT"
   },
   "source": [
    "# Decoder"
   ]
  },
  {
   "cell_type": "markdown",
   "metadata": {
    "id": "aQ7GWss5YqUC"
   },
   "source": [
    "The response utterance is produced token by token by the decoder RNN. It generates the next word in the sequence using the encoder's context vectors and internal hidden states. It keeps producing words until it reaches the end of the sentence, which is represented by an end_token. A common issue with a standard seq2seq decoder is that relying solely on the context vector to encode the meaning of the complete input sequence would almost certainly result in information loss. This is particularly true when dealing with long input sequences, severely restricting our decoder's capabilities.\n",
    "\n",
    "[Bahdanau et al.](https://arxiv.org/abs/1409.0473) devised an \"attention mechanism\" that allows the decoder to focus on specific parts of the input sequence rather than using the whole set context at each step to deal with information loss. Attention is determined using the encoder's outputs and the decoder's current hidden state. Since the output attention weights have the same shape as the input sequence, we may multiply them by the encoder outputs to get a weighted amount that shows which sections of the encoder output to focus on.\n",
    "\n",
    "**For the second task you need to create the decoder with attention. Call the attention layer and use GRUs for decoding.**"
   ]
  },
  {
   "cell_type": "code",
   "execution_count": 14,
   "metadata": {
    "id": "KssO1KLzId2d"
   },
   "outputs": [],
   "source": [
    "class BahdanauAttention(tf.keras.layers.Layer):\n",
    "    def __init__(self, units):\n",
    "        super(BahdanauAttention, self).__init__()\n",
    "        self.W1 = tf.keras.layers.Dense(units)\n",
    "        self.W2 = tf.keras.layers.Dense(units)\n",
    "        self.V = tf.keras.layers.Dense(1)\n",
    "        self.units = units\n",
    "        \n",
    "    def call(self, query, values):\n",
    "        \n",
    "        # query hidden state shape == (batch_size, hidden size)\n",
    "        # query_with_time_axis shape == (batch_size, 1, hidden size)\n",
    "        # values shape == (batch_size, max_len, hidden size)\n",
    "        # we are doing this to broadcast addition along the time axis to calculate the score\n",
    "        query_with_time_axis = tf.expand_dims(query, 1)\n",
    "\n",
    "        # score shape == (batch_size, max_length, 1)\n",
    "        # we get 1 at the last axis because we are applying score to self.V\n",
    "        # the shape of the tensor before applying self.V is (batch_size, max_length, units)\n",
    "        score = self.V(tf.nn.tanh(\n",
    "            self.W1(query_with_time_axis) + self.W2(values)))\n",
    "\n",
    "        # attention_weights shape == (batch_size, max_length, 1)\n",
    "        attention_weights = tf.nn.softmax(score, axis=1)\n",
    "\n",
    "        # context_vector shape after sum == (batch_size, hidden_size)\n",
    "        context_vector = attention_weights * values\n",
    "        context_vector = tf.reduce_sum(context_vector, axis=1)\n",
    "\n",
    "        return context_vector, attention_weights"
   ]
  },
  {
   "cell_type": "code",
   "execution_count": 15,
   "metadata": {
    "id": "Pyo_ifo5IhLx"
   },
   "outputs": [],
   "source": [
    "class Decoder(tf.keras.Model):\n",
    "    def __init__(self, vocab_size, embedding_dim, dec_units):\n",
    "        super(Decoder, self).__init__()\n",
    "        self.batch_sz = batch_size\n",
    "        self.embeddings = embeddings\n",
    "        self.units = 2 * dec_units # because we use bidirectional encoder\n",
    "        self.fc = Dense(vocab_len, activation='softmax', name='dense_layer')\n",
    "        # Create the decoder with attention - as you'll see in the call() method below, it will need two GRU layers\n",
    "        #Create the decoder with attention\n",
    "        self.attention = BahdanauAttention(self.units)\n",
    "        #Unidirectional GRU for the decoder\n",
    "        self.decoder_gru_l1 = GRU(self.units,\n",
    "                      return_sequences=True,\n",
    "                      return_state= False,\n",
    "                      recurrent_initializer='glorot_uniform',\n",
    "                      name='Decoder_firstGRU')\n",
    "        self.decoder_gru_l2 = GRU(self.units,\n",
    "                      return_sequences=False,\n",
    "                      return_state= True,\n",
    "                      recurrent_initializer='glorot_uniform',\n",
    "                      name='Decoder_secondGRU') \n",
    "        #Dropout layer\n",
    "        self.dropout = Dropout(0.2)\n",
    "\n",
    "\n",
    "        \n",
    "    def call(self, x, hidden, enc_output):\n",
    "\n",
    "        # enc_output shape == (batch_size, max_length, hidden_size)\n",
    "        context_vector, attention_weights = self.attention(hidden, enc_output)\n",
    "\n",
    "        # x shape after passing through embedding == (batch_size, 1, embedding_dim)\n",
    "        x = self.embeddings(x)\n",
    "\n",
    "        # x shape after concatenation == (batch_size, 1, embedding_dim + hidden_size)\n",
    "        x = tf.concat([tf.expand_dims(context_vector, 1), x], axis=-1) # concat input and context vector together\n",
    "\n",
    "        # passing the concatenated vector to the GRU\n",
    "        x = self.decoder_gru_l1(x)\n",
    "        x = self.dropout(x)\n",
    "        output, state = self.decoder_gru_l2(x)\n",
    "        x = self.fc(output)\n",
    "        return x, state, attention_weights"
   ]
  },
  {
   "cell_type": "code",
   "execution_count": 16,
   "metadata": {
    "id": "UeMvjzzVIjVR"
   },
   "outputs": [],
   "source": [
    "decoder = Decoder(vocab_len, 50, GRU_units)\n"
   ]
  },
  {
   "cell_type": "markdown",
   "metadata": {
    "id": "67WV-Fnb_VvJ"
   },
   "source": [
    "# Evaluation"
   ]
  },
  {
   "cell_type": "markdown",
   "metadata": {
    "id": "ZJPZPKIpeGGN"
   },
   "source": [
    "We can now write functions to evaluate a string input sentence now that we've established our decoding process. The evaluate function is in charge of the low-level handling of the input sentence. The sentence is first formatted as an input batch of word indexes. To prepare the tensor for our models, we convert the words of the sentence to their corresponding indexes and transpose the dimensions. Our system's user interface is called answer. Our text is normalised in the same way that our training data is, and then fed into the evaluate function to generate a decoded output sentence and attention weights."
   ]
  },
  {
   "cell_type": "code",
   "execution_count": 17,
   "metadata": {
    "id": "mVSbB_kLIo3p"
   },
   "outputs": [],
   "source": [
    "import unicodedata\n",
    "import matplotlib.ticker as ticker\n",
    "\n",
    "# function for plotting the attention weights\n",
    "def plot_attention(attention, sentence, predicted_sentence):\n",
    "    fig = plt.figure(figsize=(5,5))\n",
    "    ax = fig.add_subplot(1, 1, 1)\n",
    "    ax.matshow(attention, cmap='viridis')\n",
    "\n",
    "    fontdict = {'fontsize': 14}\n",
    "\n",
    "    ax.set_xticklabels([''] + sentence, fontdict=fontdict, rotation=90)\n",
    "    ax.set_yticklabels([''] + predicted_sentence, fontdict=fontdict)\n",
    "\n",
    "    ax.xaxis.set_major_locator(ticker.MultipleLocator(1))\n",
    "    ax.yaxis.set_major_locator(ticker.MultipleLocator(1))\n",
    "    \n",
    "    plt.show()\n",
    "\n",
    "def unicode_to_ascii(s):\n",
    "    return ''.join(c for c in unicodedata.normalize('NFD', s)\n",
    "      if unicodedata.category(c) != 'Mn')\n",
    "\n",
    "def evaluate(sentence):\n",
    "    \n",
    "    attention_plot = np.zeros((max_len_a, max_len_q))\n",
    "\n",
    "    sentence = unicode_to_ascii(sentence.lower())\n",
    "    inputs = [wordtoix[i] for i in sentence.split(' ')]\n",
    "    inputs = [wordtoix[start_token]]+inputs+[wordtoix[end_token]]\n",
    "    inputs = pad_sequences([inputs],maxlen=max_len_q, padding='post')\n",
    "\n",
    "    inputs = tf.convert_to_tensor(inputs)\n",
    "\n",
    "    result = ''\n",
    "\n",
    "    hidden = [tf.zeros((1, GRU_units))]\n",
    "    enc_out, enc_hidden_f, enc_hidden_b = encoder(inputs, hidden)\n",
    "\n",
    "    dec_hidden = Concatenate(axis=-1)([enc_hidden_f, enc_hidden_b])\n",
    "    dec_input = tf.expand_dims([wordtoix[start_token]], 1)\n",
    "\n",
    "    for t in range(max_len_a):\n",
    "        predictions, dec_hidden, attention_weights = decoder(dec_input,\n",
    "                                                             dec_hidden,\n",
    "                                                             enc_out)\n",
    "\n",
    "        attention_weights = tf.reshape(attention_weights, (-1, ))\n",
    "        attention_plot[t] = K.get_value(attention_weights)\n",
    "        \n",
    "        predicted_id =  K.get_value(tf.argmax(predictions[0]))       \n",
    "\n",
    "        if ixtoword[predicted_id] == end_token:\n",
    "            return result, sentence, attention_plot\n",
    "        \n",
    "        result += ixtoword[predicted_id] + ' '\n",
    "        # the predicted ID is fed back into the model\n",
    "        dec_input = tf.expand_dims([predicted_id], 1)\n",
    "\n",
    "    return result, sentence, attention_plot\n",
    "\n",
    "def answer(sentence, training=False):\n",
    "    result, sentence, attention_plot = evaluate(sentence)\n",
    "    \n",
    "    if training:\n",
    "        return result\n",
    "    \n",
    "    print('Input: %s' % (sentence))\n",
    "    print('Predicted answer: {}'.format(result))\n",
    "    attention_plot = attention_plot[1:len(result.split(' ')), :len(sentence.split(' '))]\n",
    "    plot_attention(attention_plot, sentence.split(' '), result.split(' ')[:-1])"
   ]
  },
  {
   "cell_type": "markdown",
   "metadata": {
    "id": "Kl-ffZTS_dtP"
   },
   "source": [
    "# Greedy decoding"
   ]
  },
  {
   "cell_type": "markdown",
   "metadata": {
    "id": "xacfBuH7dxUw"
   },
   "source": [
    "Greedy decoding is a decoding method in which we simply choose the highest softmax value word from decoder output for each time stage. On a single time-step stage, this decoding method is optimal. It is common in neural machine translation systems to use a beam-search to sample the probabilities for the words in the sequence output by the model.\n",
    "\n",
    "The wider the beam width, the more exhaustive the search, and, it is believed, the better the results.\n",
    "\n",
    "The results showed that a modest beam-width of 3-5 performed the best, which could be improved only very slightly through the use of length penalties. "
   ]
  },
  {
   "cell_type": "code",
   "execution_count": 18,
   "metadata": {
    "id": "pa46aAvvIvsx"
   },
   "outputs": [],
   "source": [
    "def beam_search(sentence, k=5, maxsample=max_len_a, use_unk=False, oov=None, eos=end_token):\n",
    "\n",
    "    \n",
    "    dead_k = 0 # samples that reached eos\n",
    "    dead_samples = []\n",
    "    dead_scores = []\n",
    "    live_k = 1 # samples that did not yet reached eos\n",
    "    live_samples = [[wordtoix[start_token]]]\n",
    "    live_scores = [0]\n",
    "\n",
    "    sentence = unicode_to_ascii(sentence.lower())\n",
    "    inputs = [wordtoix[i] for i in sentence.split(' ')]\n",
    "    inputs = [wordtoix[start_token]]+inputs+[wordtoix[end_token]]\n",
    "    inputs = pad_sequences([inputs],maxlen=max_len_q, padding='post')\n",
    "\n",
    "    inputs = tf.convert_to_tensor(inputs)\n",
    "\n",
    "    hidden = [tf.zeros((1, GRU_units))]\n",
    "    enc_out, enc_hidden_f, enc_hidden_b = encoder(inputs, hidden)\n",
    "\n",
    "    dec_hidden = Concatenate(axis=-1)([enc_hidden_f, enc_hidden_b])\n",
    "    dec_input = tf.expand_dims([wordtoix[start_token]], 0)\n",
    "        \n",
    "    while live_k and dead_k < k:\n",
    "        # for every possible live sample calc prob for every possible label \n",
    "        predictions, dec_hidden, _ = decoder(dec_input,dec_hidden,enc_out)\n",
    "        probs = K.get_value(predictions[0])\n",
    "        # total score for every sample is sum of -log of word prb\n",
    "        cand_scores = np.array(live_scores)[:,None] - np.log(probs)\n",
    "        if not use_unk and oov is not None:\n",
    "            cand_scores[:,oov] = 1e20\n",
    "        cand_flat = cand_scores.flatten()\n",
    "\n",
    "        # find the best (lowest) scores we have from all possible samples and new words\n",
    "        ranks_flat = cand_flat.argsort()[:(k-dead_k)]\n",
    "        live_scores = cand_flat[ranks_flat]\n",
    "\n",
    "        # append the new words to their appropriate live sample\n",
    "        voc_size = vocab_len\n",
    "        live_samples = [live_samples[r//voc_size]+[r%voc_size] for r in ranks_flat]\n",
    "\n",
    "        # live samples that should be dead are...\n",
    "        zombie = [s[-1] == eos or len(s) >= maxsample for s in live_samples]\n",
    "        \n",
    "        # add zombies to the dead\n",
    "        dead_samples += [s for s,z in zip(live_samples,zombie) if z]  # remove first label == empty\n",
    "        dead_scores += [s for s,z in zip(live_scores,zombie) if z]\n",
    "        dead_k = len(dead_samples)\n",
    "        # remove zombies from the living \n",
    "        live_samples = [s for s,z in zip(live_samples,zombie) if not z]\n",
    "        live_scores = [s for s,z in zip(live_scores,zombie) if not z]\n",
    "        live_k = len(live_samples)\n",
    "\n",
    "    final_samples = dead_samples + live_samples\n",
    "    final_scores = dead_scores + live_scores   \n",
    "    \n",
    "    # cutting the strong where end_token is encounterd\n",
    "    for i in range(len(final_scores)):\n",
    "        final_scores[i] /= len(final_samples[i]) # normalizing the scores\n",
    "    \n",
    "    final_result =[]\n",
    "    \n",
    "    for i in range(len(final_scores)):\n",
    "        final_result.append((final_scores[i],final_samples[i]))\n",
    "    \n",
    "    final_list_ix = max(final_result)[1]\n",
    "    final_list_word = [ixtoword[f] for f in final_list_ix]\n",
    "    final_sentence = ' '.join(final_list_word[1:])\n",
    "    end_ix = final_sentence.find(end_token)\n",
    "    return final_sentence[:end_ix]"
   ]
  },
  {
   "cell_type": "markdown",
   "metadata": {
    "id": "tDhPN8kj-4Da"
   },
   "source": [
    "# Training procedure"
   ]
  },
  {
   "cell_type": "markdown",
   "metadata": {
    "id": "XYjEUAtO--f_"
   },
   "source": [
    "# Masked loss"
   ]
  },
  {
   "cell_type": "markdown",
   "metadata": {
    "id": "puOSiJijaOwW"
   },
   "source": [
    "We can't simply consider all elements of the tensor when evaluating loss because we're dealing with batches of padded sequences. Based on our decoder's output tensor, the target tensor, and a binary mask tensor describing the padding of the target tensor, we define a function to measure our loss."
   ]
  },
  {
   "cell_type": "code",
   "execution_count": 19,
   "metadata": {
    "id": "xN3CisgKIy7W"
   },
   "outputs": [],
   "source": [
    "optimizer = tf.keras.optimizers.Adam(init_lr)\n",
    "\n",
    "def loss_function(real, pred):\n",
    "\n",
    "    mask = tf.math.logical_not(tf.math.equal(real, 0))\n",
    "    loss_ = K.sparse_categorical_crossentropy(real, pred, from_logits= False)\n",
    "\n",
    "    mask = tf.cast(mask, dtype=loss_.dtype)\n",
    "    loss_ *= mask\n",
    "\n",
    "    return tf.reduce_mean(loss_)\n"
   ]
  },
  {
   "cell_type": "code",
   "execution_count": 20,
   "metadata": {
    "id": "832td4vpI1Ok"
   },
   "outputs": [],
   "source": [
    "# checkpoint_dir = './training_checkpoints'\n",
    "checkpoint_prefix = os.path.join(str(emb_dim)+\"-ckpt\")\n",
    "checkpoint = tf.train.Checkpoint(optimizer=optimizer,\n",
    "                                 encoder=encoder,\n",
    "                                 decoder=decoder)\n"
   ]
  },
  {
   "cell_type": "markdown",
   "metadata": {
    "id": "ZbaDnfr3_Elp"
   },
   "source": [
    "# Single training iteration"
   ]
  },
  {
   "cell_type": "markdown",
   "metadata": {
    "id": "ZfRcNM1TbJcs"
   },
   "source": [
    "The algorithm for a single training iteration is contained in the train_step function (a single batch of inputs). To help with convergence, we'll use teacher forcing. This means that we use the current target word as the decoder's next input rather than the decoder's current guess in some probabilities. This technique serves as decoder training wheels, allowing for more effective training. However, since the decoder may not have had enough time to truly craft its own output sequences during training, teacher forcing can lead to model instability during inference. \n",
    "\n"
   ]
  },
  {
   "cell_type": "code",
   "execution_count": 21,
   "metadata": {
    "id": "7yeWUoboI8JK"
   },
   "outputs": [],
   "source": [
    "@tf.function\n",
    "def train_step(inp, targ, enc_hidden):\n",
    "    loss = 0\n",
    "    with tf.GradientTape() as tape:\n",
    "        enc_output, enc_hidden_f, enc_hidden_b = encoder(inp, enc_hidden)\n",
    "        \n",
    "        dec_hidden = Concatenate(axis=-1)([enc_hidden_f, enc_hidden_b])\n",
    "        dec_input = tf.expand_dims([wordtoix[start_token]] * batch_size, 1) # dec_input initially == start_token\n",
    "\n",
    "        # Teacher forcing - feeding the target as the next input\n",
    "        for t in range(1, targ.shape[1]):\n",
    "            \n",
    "            # passing enc_output to the decoder\n",
    "            predictions, dec_hidden, _ = decoder(dec_input, dec_hidden, enc_output)\n",
    "            loss += loss_function(targ[:, t], predictions) # each time just use one timestep output\n",
    "            # using teacher forcing\n",
    "            dec_input = tf.expand_dims(targ[:, t], 1) # expected output at this time becomes input for next timestep\n",
    "            \n",
    "    batch_loss = (loss / int(targ.shape[1]))\n",
    "    variables = encoder.trainable_variables + decoder.trainable_variables\n",
    "    gradients = tape.gradient(loss, variables)\n",
    "    optimizer.apply_gradients(zip(gradients, variables))\n",
    "    \n",
    "    return batch_loss"
   ]
  },
  {
   "cell_type": "code",
   "execution_count": 22,
   "metadata": {
    "id": "eH-SlVY_JA3n"
   },
   "outputs": [],
   "source": [
    "history={'loss':[]}\n",
    "smallest_loss = np.inf\n",
    "best_ep = 1\n",
    "EPOCHS = 1000 # but 150 is enough\n",
    "enc_hidden = encoder.initialize_hidden_state()\n",
    "steps_per_epoch = len(pairs_final_train)//batch_size # used for caculating number of batches\n",
    "current_ep = 1\n"
   ]
  },
  {
   "cell_type": "markdown",
   "metadata": {
    "id": "snJApfQJ4WmT"
   },
   "source": [
    "We are creating a test_bot to monitor our training in every time step."
   ]
  },
  {
   "cell_type": "code",
   "execution_count": 23,
   "metadata": {
    "id": "BsYIKbz1JC7Y"
   },
   "outputs": [],
   "source": [
    "def test_bot(k = 5, beam = False):\n",
    "    print('#'*20)\n",
    "    q = 'Hello'\n",
    "    print('Greedy| Q:',q,'  A:',answer(q, training=True))\n",
    "    if beam:print('Beam ',k,'| ',q,'  A:',beam_search(q,k=k))\n",
    "    print('%')\n",
    "    q = 'How are you'\n",
    "    print('Greedy| Q:',q,'?  A:',answer(q, training=True))\n",
    "    if beam:print('Beam ',k,'| ',q,'?  A:',beam_search(q,k=k))\n",
    "    print('%')\n",
    "\n",
    "    q = 'What are you doing'\n",
    "    print('Greedy| Q:',q,'?  A:',answer(q, training=True))\n",
    "    if beam:print('Beam ',k,'| ',q,'?  A:',beam_search(q,k=k))\n",
    "    print('%')\n",
    "    q = 'What is your favorite restaurant'\n",
    "    print('Greedy| Q:',q,'?  A:',answer(q, training=True))\n",
    "    if beam:print('Beam ',k,'| ',q,'?  A:',beam_search(q,k=k))\n",
    "    print('%')\n",
    "  \n",
    "    q = 'Do you want to go out'\n",
    "    print('Greedy| Q:',q,'?  A:',answer(q, training=True))\n",
    "    if beam:print('Beam ',k,'| ',q,'?  A:',beam_search(q,k=k))\n",
    "    print('%')\n",
    "\n",
    "    q = 'Which movie do you like best'\n",
    "    print('Greedy| Q:',q,'  A:',answer(q, training=True))\n",
    "    if beam:print('Beam ',k,'| ',q,'  A:',beam_search(q,k=k))\n",
    "    print('%')\n",
    "    q = 'Are you a man or a woman'\n",
    "    print('Greedy| Q:',q,'?  A:',answer(q, training=True))\n",
    "    if beam:print('Beam ',k,'| ',q,'?  A:',beam_search(q,k=k))\n",
    "    print('%')\n",
    "\n",
    "    q = 'How do you celebrate your birthday'\n",
    "    print('Greedy| Q:',q,'?  A:',answer(q, training=True))\n",
    "    if beam:print('Beam ',k,'| ',q,'?  A:',beam_search(q,k=k))\n",
    "    print('%')\n",
    "    q = 'Is there a book you could read many times without ever growing tired of it'\n",
    "    print('Greedy| Q:',q,'?  A:',answer(q, training=True))\n",
    "    if beam:print('Beam ',k,'| ',q,'?  A:',beam_search(q,k=k))\n",
    "    print('%')\n",
    "  \n",
    "    q = 'What is your name'\n",
    "    print('Greedy| Q:',q,'?  A:',answer(q, training=True))\n",
    "    if beam:print('Beam ',k,'| ',q,'?  A:',beam_search(q,k=k))\n",
    "    \n",
    "    print('#'*20)"
   ]
  },
  {
   "cell_type": "markdown",
   "metadata": {
    "id": "rPFs5cNX_OuX"
   },
   "source": [
    "# Training iterations"
   ]
  },
  {
   "cell_type": "markdown",
   "metadata": {
    "id": "gz9who24c69J"
   },
   "source": [
    "It's finally time to link the entire training procedure to the data. Given the passed models, optimizers, data, and so on, the function is responsible for running n iterations of training. We've already done the heavy lifting with the train_step function, so this function is self-explanatory.\n",
    "\n",
    "One thing to keep in mind is that when we save our model, the encoder and decoder parameters, the optimizer parameters, the loss, the iteration, and so on are all saved. This method of saving the model will give us the most flexibility with the checkpoint. We can use the model parameters to run inference after loading a checkpoint, or we can begin training where we left off."
   ]
  },
  {
   "cell_type": "code",
   "execution_count": null,
   "metadata": {
    "colab": {
     "base_uri": "https://localhost:8080/",
     "height": 1000
    },
    "id": "tEqZLz3wJHm0",
    "outputId": "9e0b5766-688a-4870-f7c2-928fd542294f"
   },
   "outputs": [
    {
     "name": "stdout",
     "output_type": "stream",
     "text": [
      "Epoch 1 Batch 598 Loss: 1.6629\n",
      "Epoch 1 Batch 1196 Loss: 1.9686\n",
      "Epoch 1 Batch 1794 Loss: 1.8670\n",
      "Epoch 1 Batch 2392 Loss: 1.9331\n",
      "Epoch 1 Batch 2990 Loss: 1.7588\n",
      "Epoch 1 Batch 3588 Loss: 2.0527\n",
      "\n",
      "*** Epoch 1 Loss 1.8076 ***\n",
      "\n",
      "####################\n",
      "Greedy| Q: Hello   A: hi \n",
      "%\n",
      "Greedy| Q: How are you ?  A: i am not \n",
      "%\n",
      "Greedy| Q: What are you doing ?  A: i am not \n",
      "%\n",
      "Greedy| Q: What is your favorite restaurant ?  A: i am not \n",
      "%\n",
      "Greedy| Q: Do you want to go out ?  A: i am not \n",
      "%\n",
      "Greedy| Q: Which movie do you like best   A: i am not \n",
      "%\n",
      "Greedy| Q: Are you a man or a woman ?  A: i am not \n",
      "%\n",
      "Greedy| Q: How do you celebrate your birthday ?  A: i am not \n",
      "%\n",
      "Greedy| Q: Is there a book you could read many times without ever growing tired of it ?  A: i am not \n",
      "%\n",
      "Greedy| Q: What is your name ?  A: i am not \n",
      "####################\n",
      "check point saved!\n",
      "Best epoch so far:  1\n",
      "Time  607.098 sec\n",
      "\n",
      "========================================\n",
      "Epoch 2 Batch 598 Loss: 1.6724\n",
      "Epoch 2 Batch 1196 Loss: 2.2215\n",
      "Epoch 2 Batch 1794 Loss: 2.2106\n",
      "Epoch 2 Batch 2392 Loss: 2.2440\n",
      "Epoch 2 Batch 2990 Loss: 1.6695\n",
      "Epoch 2 Batch 3588 Loss: 2.1069\n",
      "\n",
      "*** Epoch 2 Loss 1.7697 ***\n",
      "\n",
      "####################\n",
      "Greedy| Q: Hello   A: hi \n",
      "%\n",
      "Greedy| Q: How are you ?  A: i am not a little \n",
      "%\n",
      "Greedy| Q: What are you doing ?  A: i am not a little \n",
      "%\n",
      "Greedy| Q: What is your favorite restaurant ?  A: i am not a good time \n",
      "%\n",
      "Greedy| Q: Do you want to go out ?  A: i am not \n",
      "%\n",
      "Greedy| Q: Which movie do you like best   A: i am sorry \n",
      "%\n",
      "Greedy| Q: Are you a man or a woman ?  A: i am not \n",
      "%\n",
      "Greedy| Q: How do you celebrate your birthday ?  A: i am not \n",
      "%\n",
      "Greedy| Q: Is there a book you could read many times without ever growing tired of it ?  A: i am not \n",
      "%\n",
      "Greedy| Q: What is your name ?  A: i am not a little of the way \n",
      "####################\n",
      "check point saved!\n",
      "Best epoch so far:  2\n",
      "Time  606.702 sec\n",
      "\n",
      "========================================\n",
      "Epoch 3 Batch 598 Loss: 1.6123\n",
      "Epoch 3 Batch 1196 Loss: 2.3434\n",
      "Epoch 3 Batch 1794 Loss: 2.1630\n",
      "Epoch 3 Batch 2392 Loss: 2.2008\n",
      "Epoch 3 Batch 2990 Loss: 1.7890\n",
      "Epoch 3 Batch 3588 Loss: 2.2684\n",
      "\n",
      "*** Epoch 3 Loss 1.7419 ***\n",
      "\n",
      "####################\n",
      "Greedy| Q: Hello   A: hi \n",
      "%\n",
      "Greedy| Q: How are you ?  A: i am not a good time \n",
      "%\n",
      "Greedy| Q: What are you doing ?  A: i am not a good time \n",
      "%\n",
      "Greedy| Q: What is your favorite restaurant ?  A: i am sorry \n",
      "%\n",
      "Greedy| Q: Do you want to go out ?  A: i am not \n",
      "%\n",
      "Greedy| Q: Which movie do you like best   A: i am sorry \n",
      "%\n",
      "Greedy| Q: Are you a man or a woman ?  A: i am not a good time \n",
      "%\n",
      "Greedy| Q: How do you celebrate your birthday ?  A: i am sorry \n",
      "%\n",
      "Greedy| Q: Is there a book you could read many times without ever growing tired of it ?  A: i am not a good time \n",
      "%\n",
      "Greedy| Q: What is your name ?  A: i am sorry \n",
      "####################\n",
      "check point saved!\n",
      "Best epoch so far:  3\n",
      "Time  611.390 sec\n",
      "\n",
      "========================================\n",
      "Epoch 4 Batch 598 Loss: 1.4393\n",
      "Epoch 4 Batch 1196 Loss: 2.3966\n",
      "Epoch 4 Batch 1794 Loss: 1.9814\n",
      "Epoch 4 Batch 2392 Loss: 2.0607\n",
      "Epoch 4 Batch 2990 Loss: 1.8269\n",
      "Epoch 4 Batch 3588 Loss: 2.1355\n",
      "\n",
      "*** Epoch 4 Loss 1.7203 ***\n",
      "\n",
      "####################\n",
      "Greedy| Q: Hello   A: hello \n",
      "%\n",
      "Greedy| Q: How are you ?  A: i am not a good time \n",
      "%\n",
      "Greedy| Q: What are you doing ?  A: i am sorry \n",
      "%\n",
      "Greedy| Q: What is your favorite restaurant ?  A: i am sorry \n",
      "%\n",
      "Greedy| Q: Do you want to go out ?  A: i am not a good time \n",
      "%\n",
      "Greedy| Q: Which movie do you like best   A: i am sorry \n",
      "%\n",
      "Greedy| Q: Are you a man or a woman ?  A: i am sorry \n",
      "%\n",
      "Greedy| Q: How do you celebrate your birthday ?  A: i am sorry \n",
      "%\n",
      "Greedy| Q: Is there a book you could read many times without ever growing tired of it ?  A: i am not a good time \n",
      "%\n",
      "Greedy| Q: What is your name ?  A: i am sorry \n",
      "####################\n",
      "check point saved!\n",
      "Best epoch so far:  4\n",
      "Time  602.233 sec\n",
      "\n",
      "========================================\n",
      "Epoch 5 Batch 598 Loss: 1.4566\n",
      "Epoch 5 Batch 1196 Loss: 2.0688\n",
      "Epoch 5 Batch 1794 Loss: 1.8834\n",
      "Epoch 5 Batch 2392 Loss: 2.0291\n",
      "Epoch 5 Batch 2990 Loss: 1.7686\n",
      "Epoch 5 Batch 3588 Loss: 2.0838\n",
      "\n",
      "*** Epoch 5 Loss 1.7027 ***\n",
      "\n",
      "####################\n",
      "Greedy| Q: Hello   A: hello \n",
      "%\n",
      "Greedy| Q: How are you ?  A: i am not a good time \n",
      "%\n",
      "Greedy| Q: What are you doing ?  A: i am sorry \n",
      "%\n",
      "Greedy| Q: What is your favorite restaurant ?  A: i am sorry \n",
      "%\n",
      "Greedy| Q: Do you want to go out ?  A: i am not sure \n",
      "%\n",
      "Greedy| Q: Which movie do you like best   A: i am sorry \n",
      "%\n",
      "Greedy| Q: Are you a man or a woman ?  A: i am sorry \n",
      "%\n",
      "Greedy| Q: How do you celebrate your birthday ?  A: i am sorry \n",
      "%\n",
      "Greedy| Q: Is there a book you could read many times without ever growing tired of it ?  A: i am not a good time \n",
      "%\n",
      "Greedy| Q: What is your name ?  A: i am sorry \n",
      "####################\n",
      "check point saved!\n"
     ]
    },
    {
     "data": {
      "image/png": "[encoded data removed]",
      "text/plain": [
       "<Figure size 288x216 with 1 Axes>"
      ]
     },
     "metadata": {
      "needs_background": "light"
     },
     "output_type": "display_data"
    },
    {
     "name": "stdout",
     "output_type": "stream",
     "text": [
      "Best epoch so far:  5\n",
      "Time  602.856 sec\n",
      "\n",
      "========================================\n",
      "Epoch 6 Batch 598 Loss: 1.5329\n",
      "Epoch 6 Batch 1196 Loss: 1.8645\n",
      "Epoch 6 Batch 1794 Loss: 1.7379\n",
      "Epoch 6 Batch 2392 Loss: 1.8941\n",
      "Epoch 6 Batch 2990 Loss: 1.5886\n",
      "Epoch 6 Batch 3588 Loss: 1.8938\n",
      "\n",
      "*** Epoch 6 Loss 1.6874 ***\n",
      "\n",
      "####################\n",
      "Greedy| Q: Hello   A: hello \n",
      "%\n",
      "Greedy| Q: How are you ?  A: i am not a good time \n",
      "%\n",
      "Greedy| Q: What are you doing ?  A: i am sorry \n",
      "%\n",
      "Greedy| Q: What is your favorite restaurant ?  A: i am sorry \n",
      "%\n",
      "Greedy| Q: Do you want to go out ?  A: i am not sure \n",
      "%\n",
      "Greedy| Q: Which movie do you like best   A: i am sorry \n",
      "%\n",
      "Greedy| Q: Are you a man or a woman ?  A: i am sorry \n",
      "%\n",
      "Greedy| Q: How do you celebrate your birthday ?  A: i am sorry \n",
      "%\n",
      "Greedy| Q: Is there a book you could read many times without ever growing tired of it ?  A: i am sorry \n",
      "%\n",
      "Greedy| Q: What is your name ?  A: i do not know \n",
      "####################\n",
      "check point saved!\n",
      "Best epoch so far:  6\n",
      "Time  602.438 sec\n",
      "\n",
      "========================================\n",
      "Epoch 7 Batch 598 Loss: 1.6433\n",
      "Epoch 7 Batch 1196 Loss: 2.1082\n",
      "Epoch 7 Batch 1794 Loss: 2.0687\n",
      "Epoch 7 Batch 2392 Loss: 2.1269\n",
      "Epoch 7 Batch 2990 Loss: 1.4956\n",
      "Epoch 7 Batch 3588 Loss: 1.9276\n",
      "\n",
      "*** Epoch 7 Loss 1.6752 ***\n",
      "\n",
      "####################\n",
      "Greedy| Q: Hello   A: hello \n",
      "%\n",
      "Greedy| Q: How are you ?  A: i am not sure \n",
      "%\n",
      "Greedy| Q: What are you doing ?  A: i am sorry \n",
      "%\n",
      "Greedy| Q: What is your favorite restaurant ?  A: i do not know \n",
      "%\n",
      "Greedy| Q: Do you want to go out ?  A: i am not sure \n",
      "%\n",
      "Greedy| Q: Which movie do you like best   A: i am sorry \n",
      "%\n",
      "Greedy| Q: Are you a man or a woman ?  A: i am not a little \n",
      "%\n",
      "Greedy| Q: How do you celebrate your birthday ?  A: i am sorry \n",
      "%\n",
      "Greedy| Q: Is there a book you could read many times without ever growing tired of it ?  A: i am not a good time \n",
      "%\n",
      "Greedy| Q: What is your name ?  A: i do not know \n",
      "####################\n",
      "check point saved!\n",
      "Best epoch so far:  7\n",
      "Time  602.601 sec\n",
      "\n",
      "========================================\n",
      "Epoch 8 Batch 598 Loss: 1.5898\n",
      "Epoch 8 Batch 1196 Loss: 2.1852\n",
      "Epoch 8 Batch 1794 Loss: 2.0804\n",
      "Epoch 8 Batch 2392 Loss: 2.0826\n",
      "Epoch 8 Batch 2990 Loss: 1.7163\n",
      "Epoch 8 Batch 3588 Loss: 2.0215\n",
      "\n",
      "*** Epoch 8 Loss 1.6641 ***\n",
      "\n",
      "####################\n",
      "Greedy| Q: Hello   A: hello \n",
      "%\n",
      "Greedy| Q: How are you ?  A: i am not sure \n",
      "%\n",
      "Greedy| Q: What are you doing ?  A: i am not sure \n",
      "%\n",
      "Greedy| Q: What is your favorite restaurant ?  A: i do not know \n",
      "%\n",
      "Greedy| Q: Do you want to go out ?  A: i am not sure \n",
      "%\n",
      "Greedy| Q: Which movie do you like best   A: i am sorry \n",
      "%\n",
      "Greedy| Q: Are you a man or a woman ?  A: i am not a little \n",
      "%\n",
      "Greedy| Q: How do you celebrate your birthday ?  A: i am sorry \n",
      "%\n",
      "Greedy| Q: Is there a book you could read many times without ever growing tired of it ?  A: i am not going to be a good time \n",
      "%\n",
      "Greedy| Q: What is your name ?  A: i do not know \n",
      "####################\n",
      "check point saved!\n",
      "Best epoch so far:  8\n",
      "Time  603.507 sec\n",
      "\n",
      "========================================\n",
      "Epoch 9 Batch 598 Loss: 1.4627\n",
      "Epoch 9 Batch 1196 Loss: 2.2435\n",
      "Epoch 9 Batch 1794 Loss: 2.0914\n",
      "Epoch 9 Batch 2392 Loss: 1.9749\n",
      "Epoch 9 Batch 2990 Loss: 1.7431\n",
      "Epoch 9 Batch 3588 Loss: 2.0252\n",
      "\n",
      "*** Epoch 9 Loss 1.6542 ***\n",
      "\n",
      "####################\n",
      "Greedy| Q: Hello   A: hello \n",
      "%\n",
      "Greedy| Q: How are you ?  A: i am not sure \n",
      "%\n",
      "Greedy| Q: What are you doing ?  A: i am not sure \n",
      "%\n",
      "Greedy| Q: What is your favorite restaurant ?  A: i do not know \n",
      "%\n",
      "Greedy| Q: Do you want to go out ?  A: i am not sure \n",
      "%\n",
      "Greedy| Q: Which movie do you like best   A: i am sorry \n",
      "%\n",
      "Greedy| Q: Are you a man or a woman ?  A: i am not a little \n",
      "%\n",
      "Greedy| Q: How do you celebrate your birthday ?  A: i am sorry \n",
      "%\n",
      "Greedy| Q: Is there a book you could read many times without ever growing tired of it ?  A: i am not a good time \n",
      "%\n",
      "Greedy| Q: What is your name ?  A: i do not know \n",
      "####################\n",
      "check point saved!\n",
      "Best epoch so far:  9\n",
      "Time  601.816 sec\n",
      "\n",
      "========================================\n",
      "Epoch 10 Batch 598 Loss: 1.4793\n",
      "Epoch 10 Batch 1196 Loss: 2.1046\n",
      "Epoch 10 Batch 1794 Loss: 1.9573\n",
      "Epoch 10 Batch 2392 Loss: 1.9015\n",
      "Epoch 10 Batch 2990 Loss: 1.7437\n",
      "Epoch 10 Batch 3588 Loss: 2.0606\n",
      "\n",
      "*** Epoch 10 Loss 1.6452 ***\n",
      "\n",
      "####################\n",
      "Greedy| Q: Hello   A: hello \n",
      "%\n",
      "Greedy| Q: How are you ?  A: i am not sure \n",
      "%\n",
      "Greedy| Q: What are you doing ?  A: i am not sure \n",
      "%\n",
      "Greedy| Q: What is your favorite restaurant ?  A: i do not know \n",
      "%\n",
      "Greedy| Q: Do you want to go out ?  A: i am not sure \n",
      "%\n",
      "Greedy| Q: Which movie do you like best   A: i am sorry \n",
      "%\n",
      "Greedy| Q: Are you a man or a woman ?  A: i am not a little \n",
      "%\n",
      "Greedy| Q: How do you celebrate your birthday ?  A: i am sorry \n",
      "%\n",
      "Greedy| Q: Is there a book you could read many times without ever growing tired of it ?  A: i am not a good time \n",
      "%\n",
      "Greedy| Q: What is your name ?  A: i do not know \n",
      "####################\n",
      "check point saved!\n"
     ]
    },
    {
     "data": {
      "image/png": "[encoded data removed]",
      "text/plain": [
       "<Figure size 288x216 with 1 Axes>"
      ]
     },
     "metadata": {
      "needs_background": "light"
     },
     "output_type": "display_data"
    },
    {
     "name": "stdout",
     "output_type": "stream",
     "text": [
      "Best epoch so far:  10\n",
      "Time  604.865 sec\n",
      "\n",
      "========================================\n",
      "Epoch 11 Batch 598 Loss: 1.4967\n",
      "Epoch 11 Batch 1196 Loss: 1.8443\n",
      "Epoch 11 Batch 1794 Loss: 1.6269\n",
      "Epoch 11 Batch 2392 Loss: 1.9005\n",
      "Epoch 11 Batch 2990 Loss: 1.5459\n",
      "Epoch 11 Batch 3588 Loss: 1.8752\n",
      "\n",
      "*** Epoch 11 Loss 1.6367 ***\n",
      "\n",
      "####################\n",
      "Greedy| Q: Hello   A: hello \n",
      "%\n",
      "Greedy| Q: How are you ?  A: i am not going to be a good time \n",
      "%\n",
      "Greedy| Q: What are you doing ?  A: i am not \n",
      "%\n",
      "Greedy| Q: What is your favorite restaurant ?  A: i do not know \n",
      "%\n",
      "Greedy| Q: Do you want to go out ?  A: i am not going to do \n",
      "%\n",
      "Greedy| Q: Which movie do you like best   A: i am sorry \n",
      "%\n",
      "Greedy| Q: Are you a man or a woman ?  A: i am not a little \n",
      "%\n",
      "Greedy| Q: How do you celebrate your birthday ?  A: i am sorry \n",
      "%\n",
      "Greedy| Q: Is there a book you could read many times without ever growing tired of it ?  A: i am not \n",
      "%\n",
      "Greedy| Q: What is your name ?  A: i do not know \n",
      "####################\n",
      "check point saved!\n",
      "Best epoch so far:  11\n",
      "Time  601.315 sec\n",
      "\n",
      "========================================\n",
      "Epoch 12 Batch 598 Loss: 1.6217\n",
      "Epoch 12 Batch 1196 Loss: 2.0195\n",
      "Epoch 12 Batch 1794 Loss: 1.9261\n",
      "Epoch 12 Batch 2392 Loss: 2.0885\n",
      "Epoch 12 Batch 2990 Loss: 1.4276\n",
      "Epoch 12 Batch 3588 Loss: 1.8089\n",
      "\n",
      "*** Epoch 12 Loss 1.6296 ***\n",
      "\n",
      "####################\n",
      "Greedy| Q: Hello   A: hi \n",
      "%\n",
      "Greedy| Q: How are you ?  A: i am not sure \n",
      "%\n",
      "Greedy| Q: What are you doing ?  A: i am not \n",
      "%\n",
      "Greedy| Q: What is your favorite restaurant ?  A: i do not know \n",
      "%\n",
      "Greedy| Q: Do you want to go out ?  A: i am not going to do \n",
      "%\n",
      "Greedy| Q: Which movie do you like best   A: i am sorry \n",
      "%\n",
      "Greedy| Q: Are you a man or a woman ?  A: i am not a little \n",
      "%\n",
      "Greedy| Q: How do you celebrate your birthday ?  A: i am sorry \n",
      "%\n",
      "Greedy| Q: Is there a book you could read many times without ever growing tired of it ?  A: i am not going to be a good time \n",
      "%\n",
      "Greedy| Q: What is your name ?  A: i do not know \n",
      "####################\n",
      "check point saved!\n",
      "Best epoch so far:  12\n",
      "Time  601.660 sec\n",
      "\n",
      "========================================\n",
      "Epoch 13 Batch 598 Loss: 1.5514\n",
      "Epoch 13 Batch 1196 Loss: 2.0469\n",
      "Epoch 13 Batch 1794 Loss: 2.0360\n",
      "Epoch 13 Batch 2392 Loss: 2.1141\n",
      "Epoch 13 Batch 2990 Loss: 1.6608\n",
      "Epoch 13 Batch 3588 Loss: 1.9770\n",
      "\n",
      "*** Epoch 13 Loss 1.6227 ***\n",
      "\n",
      "####################\n",
      "Greedy| Q: Hello   A: hello \n",
      "%\n",
      "Greedy| Q: How are you ?  A: i am not sure \n",
      "%\n",
      "Greedy| Q: What are you doing ?  A: i am sorry \n",
      "%\n",
      "Greedy| Q: What is your favorite restaurant ?  A: i do not know \n",
      "%\n",
      "Greedy| Q: Do you want to go out ?  A: i am not going to do \n",
      "%\n",
      "Greedy| Q: Which movie do you like best   A: i am sorry \n",
      "%\n",
      "Greedy| Q: Are you a man or a woman ?  A: i am not a little \n",
      "%\n",
      "Greedy| Q: How do you celebrate your birthday ?  A: i am sorry \n",
      "%\n",
      "Greedy| Q: Is there a book you could read many times without ever growing tired of it ?  A: i am not going to be a good time \n",
      "%\n",
      "Greedy| Q: What is your name ?  A: i do not know \n",
      "####################\n",
      "check point saved!\n",
      "Best epoch so far:  13\n",
      "Time  606.436 sec\n",
      "\n",
      "========================================\n",
      "Epoch 14 Batch 598 Loss: 1.5127\n",
      "Epoch 14 Batch 1196 Loss: 2.1050\n",
      "Epoch 14 Batch 1794 Loss: 2.0282\n",
      "Epoch 14 Batch 2392 Loss: 1.9482\n",
      "Epoch 14 Batch 2990 Loss: 1.6488\n",
      "Epoch 14 Batch 3588 Loss: 1.9791\n",
      "\n",
      "*** Epoch 14 Loss 1.6164 ***\n",
      "\n",
      "####################\n",
      "Greedy| Q: Hello   A: hello \n",
      "%\n",
      "Greedy| Q: How are you ?  A: i am not sure \n",
      "%\n",
      "Greedy| Q: What are you doing ?  A: i am sorry \n",
      "%\n",
      "Greedy| Q: What is your favorite restaurant ?  A: i do not know \n",
      "%\n",
      "Greedy| Q: Do you want to go out ?  A: i am not sure \n",
      "%\n",
      "Greedy| Q: Which movie do you like best   A: i am sorry \n",
      "%\n",
      "Greedy| Q: Are you a man or a woman ?  A: i am not a little \n",
      "%\n",
      "Greedy| Q: How do you celebrate your birthday ?  A: i am sorry \n",
      "%\n",
      "Greedy| Q: Is there a book you could read many times without ever growing tired of it ?  A: i am not going to be a good time \n",
      "%\n",
      "Greedy| Q: What is your name ?  A: i do not know \n",
      "####################\n",
      "check point saved!\n",
      "Best epoch so far:  14\n",
      "Time  601.475 sec\n",
      "\n",
      "========================================\n",
      "Epoch 15 Batch 598 Loss: 1.3192\n",
      "Epoch 15 Batch 1196 Loss: 2.1817\n",
      "Epoch 15 Batch 1794 Loss: 1.8873\n",
      "Epoch 15 Batch 2392 Loss: 1.9713\n",
      "Epoch 15 Batch 2990 Loss: 1.6742\n",
      "Epoch 15 Batch 3588 Loss: 2.0187\n",
      "\n",
      "*** Epoch 15 Loss 1.6104 ***\n",
      "\n",
      "####################\n",
      "Greedy| Q: Hello   A: hello \n",
      "%\n",
      "Greedy| Q: How are you ?  A: i am not sure \n",
      "%\n",
      "Greedy| Q: What are you doing ?  A: i am sorry \n",
      "%\n",
      "Greedy| Q: What is your favorite restaurant ?  A: i do not know \n",
      "%\n",
      "Greedy| Q: Do you want to go out ?  A: i am not sure \n",
      "%\n",
      "Greedy| Q: Which movie do you like best   A: i am sorry \n",
      "%\n",
      "Greedy| Q: Are you a man or a woman ?  A: no \n",
      "%\n",
      "Greedy| Q: How do you celebrate your birthday ?  A: i am sorry \n",
      "%\n",
      "Greedy| Q: Is there a book you could read many times without ever growing tired of it ?  A: i am not going to be a good time \n",
      "%\n",
      "Greedy| Q: What is your name ?  A: snuck me \n",
      "####################\n",
      "check point saved!\n"
     ]
    },
    {
     "data": {
      "image/png": "[encoded data removed]",
      "text/plain": [
       "<Figure size 288x216 with 1 Axes>"
      ]
     },
     "metadata": {
      "needs_background": "light"
     },
     "output_type": "display_data"
    },
    {
     "name": "stdout",
     "output_type": "stream",
     "text": [
      "Best epoch so far:  15\n",
      "Time  605.271 sec\n",
      "\n",
      "========================================\n",
      "Epoch 16 Batch 598 Loss: 1.4206\n"
     ]
    }
   ],
   "source": [
    "batch_loss = K.constant(0)\n",
    "X, y = [], []\n",
    "def plot_history():\n",
    "    plt.figure(figsize=(4,3))\n",
    "    plt.plot(best_ep,smallest_loss,'ro')\n",
    "    plt.plot(history['loss'],'b-')\n",
    "    plt.legend(['best','loss'])\n",
    "    plt.show()\n",
    "\n",
    "for ep in range(current_ep,EPOCHS):\n",
    "    current_ep = ep    \n",
    "    start = time.time()\n",
    "    total_loss = 0\n",
    "    btch = 1\n",
    "\n",
    "    for p in pairs_final_train:     \n",
    "        \n",
    "        question = p[0]\n",
    "        label = p[1]\n",
    "        # find the index of each word of the caption in vocabulary\n",
    "        question_seq = [wordtoix[word] for word in question.split(' ') if word in wordtoix]\n",
    "        label_seq = [wordtoix[word] for word in label.split(' ') if word in wordtoix]\n",
    "        # encoder input and decoder input and label\n",
    "        enc_in_seq = pad_sequences([question_seq], maxlen=max_len_q, padding='post')[0]\n",
    "        dec_out_seq = pad_sequences([label_seq], maxlen=max_len_a, padding='post')[0]\n",
    "        \n",
    "        X.append(enc_in_seq)\n",
    "        y.append(dec_out_seq)\n",
    "\n",
    "        if len(X) == batch_size :\n",
    "            batch_loss = train_step(np.array(X), np.array(y), enc_hidden)\n",
    "            total_loss += batch_loss\n",
    "            X , y = [], []\n",
    "            btch += 1\n",
    "            if btch % (steps_per_epoch//6) == 0:\n",
    "                print('Epoch {} Batch {} Loss: {:.4f}'.format(ep , btch, K.get_value(batch_loss)))\n",
    "\n",
    "    epoch_loss =  K.get_value(total_loss) / steps_per_epoch\n",
    "    print('\\n*** Epoch {} Loss {:.4f} ***\\n'.format(ep ,epoch_loss))\n",
    "    history['loss'].append(epoch_loss)\n",
    "    \n",
    "    checkpoint.save(file_prefix = checkpoint_prefix)\n",
    "    test_bot(k=5)\n",
    "\n",
    "    if epoch_loss < smallest_loss:\n",
    "        smallest_loss = epoch_loss\n",
    "        best_ep = ep \n",
    "        print('check point saved!')\n",
    "    \n",
    "    if ep % 5 == 0:\n",
    "        plot_history()\n",
    "        \n",
    "    print('Best epoch so far: ',best_ep)\n",
    "    print('Time  {:.3f} sec\\n'.format(time.time() - start))\n",
    "\n",
    "    print('=' * 40)"
   ]
  },
  {
   "cell_type": "markdown",
   "metadata": {
    "id": "NK75PGx14ytY"
   },
   "source": [
    "Now we can load our best model and chat with our system. We also plot the attention weights."
   ]
  },
  {
   "cell_type": "code",
   "execution_count": 25,
   "metadata": {
    "colab": {
     "base_uri": "https://localhost:8080/"
    },
    "id": "1QxHQg1SduLo",
    "outputId": "4272a7f0-e59c-496d-c6b2-61b77cbef08b"
   },
   "outputs": [
    {
     "data": {
      "text/plain": [
       "<tensorflow.python.training.tracking.util.CheckpointLoadStatus at 0x7fed487da450>"
      ]
     },
     "execution_count": 25,
     "metadata": {},
     "output_type": "execute_result"
    }
   ],
   "source": [
    "checkpoint.restore(str(emb_dim)+\"-ckpt-15\")\n"
   ]
  },
  {
   "cell_type": "code",
   "execution_count": 26,
   "metadata": {
    "colab": {
     "base_uri": "https://localhost:8080/"
    },
    "id": "cr2-oAf0fBXT",
    "outputId": "ac0f5cf7-54c9-4249-b496-3757871d4da1"
   },
   "outputs": [
    {
     "name": "stdout",
     "output_type": "stream",
     "text": [
      "####################\n",
      "Greedy| Q: Hello   A: hello \n",
      "%\n",
      "Greedy| Q: How are you ?  A: i am not sure \n",
      "%\n",
      "Greedy| Q: What are you doing ?  A: i am sorry \n",
      "%\n",
      "Greedy| Q: What is your favorite restaurant ?  A: i do not know \n",
      "%\n",
      "Greedy| Q: Do you want to go out ?  A: i am not going to do \n",
      "%\n",
      "Greedy| Q: Which movie do you like best   A: i am sorry \n",
      "%\n",
      "Greedy| Q: Are you a man or a woman ?  A: i am not a little \n",
      "%\n",
      "Greedy| Q: How do you celebrate your birthday ?  A: i am sorry \n",
      "%\n",
      "Greedy| Q: Is there a book you could read many times without ever growing tired of it ?  A: i am not going to be a good time \n",
      "%\n",
      "Greedy| Q: What is your name ?  A: i do not know \n",
      "####################\n"
     ]
    }
   ],
   "source": [
    "test_bot()\n"
   ]
  },
  {
   "cell_type": "code",
   "execution_count": 27,
   "metadata": {
    "colab": {
     "base_uri": "https://localhost:8080/",
     "height": 314
    },
    "id": "FEu-hvlUfMh6",
    "outputId": "b81b00f7-7888-4813-fcef-44751c8f054d"
   },
   "outputs": [
    {
     "name": "stdout",
     "output_type": "stream",
     "text": [
      "Input: how old are you\n",
      "Predicted answer: i am not \n"
     ]
    },
    {
     "data": {
      "image/png": "[encoded data removed]",
      "text/plain": [
       "<Figure size 360x360 with 1 Axes>"
      ]
     },
     "metadata": {
      "needs_background": "light"
     },
     "output_type": "display_data"
    }
   ],
   "source": [
    "q = \"How old are you\"\n",
    "answer(q, training=False)\n"
   ]
  },
  {
   "cell_type": "code",
   "execution_count": 28,
   "metadata": {
    "colab": {
     "base_uri": "https://localhost:8080/",
     "height": 384
    },
    "id": "Q62doKoifhcH",
    "outputId": "3c77b0ef-dce9-4de6-9a1f-6d93148cc39c"
   },
   "outputs": [
    {
     "name": "stdout",
     "output_type": "stream",
     "text": [
      "Input: do you drink\n",
      "Predicted answer: i am not going to do \n"
     ]
    },
    {
     "data": {
      "image/png": "[encoded data removed]",
      "text/plain": [
       "<Figure size 360x360 with 1 Axes>"
      ]
     },
     "metadata": {
      "needs_background": "light"
     },
     "output_type": "display_data"
    }
   ],
   "source": [
    "q = \"Do you drink\"\n",
    "answer(q, training=False)\n"
   ]
  },
  {
   "cell_type": "markdown",
   "metadata": {
    "id": "O6ztdvo_vD-i"
   },
   "source": [
    "**Task 3** Let's look at the attention weights and compare them after 5, 50 and 140 epochs. Instead of evaluating by an automatic evaluation method, you can show us 10 predictions for each model. Answer the following questions based on your predictions, giving examples and/or explaining the evidence for your answers.\n",
    "# Answers can be seen in the report.\n",
    "\n",
    "*   Did the models learn to track local relations between words?\n",
    "\n",
    "*   Did the models attend to the least frequent tokens in an utterance? Can you see signs of overfitting in models that hang on to the least frequent words?\n",
    "\n",
    "*   Did the models learn to track some major syntactic relations in the utterances (e.g. subject-verb, verb-object)?\n",
    "\n",
    "*   Do they learn to encode some other linguistic features? Do they capture part-of-speech tags (POS tags)?\n",
    "\n",
    "*   What is the effect of more training on the length of responss?\n",
    "\n",
    "*   In some instances, by the time the decoder has to generate the beginning of a response, it may already forget the most relevant early query tokens. Can you suggest ways to change the training pipeline to make it easier for the model to remember the beginning of the query when it starts to generate the response?\n",
    "\n",
    "\n",
    "\n",
    "\n",
    "\n",
    "\n",
    "\n",
    "\n",
    "\n",
    "\n",
    "\n",
    "\n",
    "\n",
    "\n",
    "\n",
    "\n",
    "\n",
    "\n",
    "\n"
   ]
  },
  {
   "cell_type": "markdown",
   "metadata": {
    "id": "71GKNnQ06GzQ"
   },
   "source": [
    "You now have a good understanding of how to build a generative conversational model. If you're interested, you can customise the chatbot's behaviour by adjusting the model and training parameters, as well as the data used to train the model."
   ]
  }
 ],
 "metadata": {
  "accelerator": "GPU",
  "colab": {
   "collapsed_sections": [],
   "name": "7001_2021_22_lab12_Seq2seq_Dialogue_Model_without_answers.ipynb",
   "provenance": []
  },
  "kernelspec": {
   "display_name": "Python 3 (ipykernel)",
   "language": "python",
   "name": "python3"
  },
  "language_info": {
   "codemirror_mode": {
    "name": "ipython",
    "version": 3
   },
   "file_extension": ".py",
   "mimetype": "text/x-python",
   "name": "python",
   "nbconvert_exporter": "python",
   "pygments_lexer": "ipython3",
   "version": "3.9.7"
  }
 },
 "nbformat": 4,
 "nbformat_minor": 1
}
